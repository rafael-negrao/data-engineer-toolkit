{
 "cells": [
  {
   "cell_type": "code",
   "execution_count": 1,
   "id": "a72560d3-9fa6-47ca-a5b7-2c0031e48f54",
   "metadata": {},
   "outputs": [],
   "source": [
    "import pyspark # only run after findspark.init()\n",
    "from pyspark.sql import SparkSession\n",
    "spark = (\n",
    "    SparkSession\n",
    "        .builder\n",
    "        .master('spark://spark-master:7077')\n",
    "        .appName('jupyter')\n",
    "        .getOrCreate()\n",
    ")"
   ]
  },
  {
   "cell_type": "code",
   "execution_count": 2,
   "id": "26c79f8b-ca51-4be1-8afd-d960c29b9367",
   "metadata": {},
   "outputs": [],
   "source": [
    "df = spark.sql('show databases')"
   ]
  },
  {
   "cell_type": "code",
   "execution_count": 3,
   "id": "9fb865c9-fbfb-4e52-9c0f-2c774c6908d7",
   "metadata": {},
   "outputs": [
    {
     "name": "stdout",
     "output_type": "stream",
     "text": [
      "+---------+\n",
      "|namespace|\n",
      "+---------+\n",
      "|default  |\n",
      "+---------+\n",
      "\n"
     ]
    }
   ],
   "source": [
    "df.show(10, False)"
   ]
  },
  {
   "cell_type": "code",
   "execution_count": 4,
   "id": "4b3ab430-b31e-4e67-bb50-34cd552b03f6",
   "metadata": {},
   "outputs": [],
   "source": [
    "df_teste = spark.createDataFrame([\n",
    "    {'id': 1},\n",
    "    {'id': 2},\n",
    "])"
   ]
  },
  {
   "cell_type": "code",
   "execution_count": 5,
   "id": "b5c0be42-4ee6-426b-b497-b6b4dc5c5462",
   "metadata": {},
   "outputs": [
    {
     "name": "stdout",
     "output_type": "stream",
     "text": [
      "root\n",
      " |-- id: long (nullable = true)\n",
      "\n"
     ]
    }
   ],
   "source": [
    "df_teste.printSchema()"
   ]
  },
  {
   "cell_type": "code",
   "execution_count": 6,
   "id": "3cd8cc89-d47c-4e30-8f9c-b9b00b6a38e2",
   "metadata": {},
   "outputs": [
    {
     "name": "stdout",
     "output_type": "stream",
     "text": [
      "+---+\n",
      "|id |\n",
      "+---+\n",
      "|1  |\n",
      "|2  |\n",
      "+---+\n",
      "\n"
     ]
    }
   ],
   "source": [
    "df_teste.show(10, False)"
   ]
  },
  {
   "cell_type": "code",
   "execution_count": null,
   "id": "75b4386a-91e1-450e-a035-7632a3d8a093",
   "metadata": {},
   "outputs": [],
   "source": []
  },
  {
   "cell_type": "code",
   "execution_count": null,
   "id": "7eada2e9-a5f1-4be3-ae16-410fb7f9496d",
   "metadata": {},
   "outputs": [],
   "source": [
    "user_data_df.printSchema()"
   ]
  },
  {
   "cell_type": "code",
   "execution_count": null,
   "id": "7db27d4b-547e-4b0c-9905-1af568da6087",
   "metadata": {},
   "outputs": [],
   "source": [
    "user_data_df.coalesce(1).collect()"
   ]
  },
  {
   "cell_type": "code",
   "execution_count": null,
   "id": "74b08448-3619-4e2f-9a97-ec579816fd1b",
   "metadata": {},
   "outputs": [],
   "source": [
    "user_data_df.show()"
   ]
  },
  {
   "cell_type": "code",
   "execution_count": null,
   "id": "55546ad3-42a3-4743-b2ad-74fb78502d09",
   "metadata": {},
   "outputs": [],
   "source": []
  }
 ],
 "metadata": {
  "kernelspec": {
   "display_name": "Python 3 (ipykernel)",
   "language": "python",
   "name": "python3"
  },
  "language_info": {
   "codemirror_mode": {
    "name": "ipython",
    "version": 3
   },
   "file_extension": ".py",
   "mimetype": "text/x-python",
   "name": "python",
   "nbconvert_exporter": "python",
   "pygments_lexer": "ipython3",
   "version": "3.8.13"
  }
 },
 "nbformat": 4,
 "nbformat_minor": 5
}
