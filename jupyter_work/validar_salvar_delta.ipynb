{
 "cells": [
  {
   "cell_type": "code",
   "execution_count": 1,
   "id": "da677f76-d6fc-4d9b-baba-9192b4dfc9e6",
   "metadata": {},
   "outputs": [],
   "source": [
    "import pyspark\n",
    "from delta import *\n",
    "\n",
    "builder = (\n",
    "  pyspark \n",
    "    .sql \n",
    "    .SparkSession \n",
    "    .builder \n",
    "    .appName(\"delta\") \n",
    "    .master(\"spark://spark-master:7077\")\n",
    "    .config(\"spark.sql.extensions\", \"io.delta.sql.DeltaSparkSessionExtension\")\n",
    "    .config(\"spark.sql.catalog.spark_catalog\", \"org.apache.spark.sql.delta.catalog.DeltaCatalog\")\n",
    "    .config(\"spark.hadoop.fs.s3a.access.key\",\"datalake\") \n",
    "    .config(\"spark.hadoop.fs.s3a.secret.key\",\"datalake\") \n",
    "    .config(\"spark.hadoop.fs.s3a.endpoint\",\"http://minio:9000\") \n",
    "    .config(\"spark.hadoop.fs.s3a.path.style.access\", \"true\") \n",
    "    .config(\"spark.hadoop.fs.s3a.aws.credentials.provider\", \"org.apache.hadoop.fs.s3a.SimpleAWSCredentialsProvider\") \n",
    "    .config(\"spark.hadoop.fs.s3a.impl\", \"org.apache.hadoop.fs.s3a.S3AFileSystem\")\n",
    ")\n",
    "\n",
    "spark = configure_spark_with_delta_pip(builder).enableHiveSupport().getOrCreate()"
   ]
  },
  {
   "cell_type": "code",
   "execution_count": 2,
   "id": "48da23b7-fe3e-4f5e-9276-143da21bc308",
   "metadata": {},
   "outputs": [
    {
     "data": {
      "text/html": [
       "\n",
       "            <div>\n",
       "                <p><b>SparkSession - hive</b></p>\n",
       "                \n",
       "        <div>\n",
       "            <p><b>SparkContext</b></p>\n",
       "\n",
       "            <p><a href=\"http://all-spark-notebook:4040\">Spark UI</a></p>\n",
       "\n",
       "            <dl>\n",
       "              <dt>Version</dt>\n",
       "                <dd><code>v3.3.0</code></dd>\n",
       "              <dt>Master</dt>\n",
       "                <dd><code>spark://spark-master:7077</code></dd>\n",
       "              <dt>AppName</dt>\n",
       "                <dd><code>delta</code></dd>\n",
       "            </dl>\n",
       "        </div>\n",
       "        \n",
       "            </div>\n",
       "        "
      ],
      "text/plain": [
       "<pyspark.sql.session.SparkSession at 0xffff74255d90>"
      ]
     },
     "execution_count": 2,
     "metadata": {},
     "output_type": "execute_result"
    }
   ],
   "source": [
    "spark"
   ]
  },
  {
   "cell_type": "code",
   "execution_count": 15,
   "id": "406c394e-c7b9-47dd-9a3d-4041f08a0dce",
   "metadata": {},
   "outputs": [],
   "source": [
    "# Import Libraries\n",
    "from pyspark.sql.types import StructType, StructField, FloatType, BooleanType\n",
    "from pyspark.sql.types import DoubleType, IntegerType, StringType\n",
    "from pyspark import SQLContext\n",
    "# Setup the Configuration\n",
    "\n",
    "# Setup the Schema\n",
    "schema = StructType([\n",
    "    StructField(\"User_ID\", IntegerType(),True),\n",
    "    StructField(\"Username\", StringType(),True),\n",
    "    StructField(\"Browser\", StringType(),True),\n",
    "    StructField(\"OS\", StringType(),True),\n",
    "])\n",
    "# Add Data\n",
    "data = ([\n",
    "    (1580, \"Barry\", \"FireFox\", \"Windows\" ),\n",
    "    (5820, \"Sam\", \"MS Edge\", \"Linux\"),\n",
    "    (2340, \"Harry\", \"Vivaldi\", \"Windows\"),\n",
    "    (7860, \"Albert\", \"Chrome\", \"Windows\"),\n",
    "    (1123, \"May\", \"Safari\", \"macOS\")\n",
    "])\n",
    "# Setup the Data Frame\n",
    "user_data_df = spark.createDataFrame(data,schema=schema)"
   ]
  },
  {
   "cell_type": "code",
   "execution_count": null,
   "id": "3a4ac1a7-8b74-440e-b7ff-3b0bc8b41e39",
   "metadata": {},
   "outputs": [],
   "source": [
    "user_data_df.show(10, False)"
   ]
  },
  {
   "cell_type": "code",
   "execution_count": null,
   "id": "6f7e621e-3edc-431e-85d7-fafb73d1d420",
   "metadata": {},
   "outputs": [],
   "source": [
    "(\n",
    "    user_data_df\n",
    "        .write\n",
    "        .format('parquet')\n",
    "        .mode('overwrite')\n",
    "        .save('s3a://delta-lake/users_paquet')\n",
    ")"
   ]
  },
  {
   "cell_type": "code",
   "execution_count": 16,
   "id": "08432f23-6805-4d10-8bf4-d14182e03c4c",
   "metadata": {},
   "outputs": [],
   "source": [
    "(\n",
    "    user_data_df\n",
    "        .write\n",
    "        .format('delta')\n",
    "        .mode('overwrite')\n",
    "        .save('s3a://delta-lake/users_delta')\n",
    ")"
   ]
  },
  {
   "cell_type": "code",
   "execution_count": 17,
   "id": "b62717a1-7a8f-4e0c-b8ac-bad1070e0d7d",
   "metadata": {},
   "outputs": [],
   "source": [
    "from delta.tables import *\n",
    "from pyspark.sql.functions import *"
   ]
  },
  {
   "cell_type": "code",
   "execution_count": 18,
   "id": "a92cf15d-037c-469c-836c-e08fa30ec6cd",
   "metadata": {},
   "outputs": [],
   "source": [
    "user_df = DeltaTable.forPath(spark, 's3a://delta-lake/users_delta')"
   ]
  },
  {
   "cell_type": "code",
   "execution_count": 19,
   "id": "2a806c73-83e6-4f9a-83ff-f187c72167e3",
   "metadata": {},
   "outputs": [
    {
     "name": "stdout",
     "output_type": "stream",
     "text": [
      "+-------+--------+-------+-------+\n",
      "|User_ID|Username|Browser|OS     |\n",
      "+-------+--------+-------+-------+\n",
      "|2340   |Harry   |Vivaldi|Windows|\n",
      "|7860   |Albert  |Chrome |Windows|\n",
      "|1123   |May     |Safari |macOS  |\n",
      "|1580   |Barry   |FireFox|Windows|\n",
      "|5820   |Sam     |MS Edge|Linux  |\n",
      "+-------+--------+-------+-------+\n",
      "\n"
     ]
    }
   ],
   "source": [
    "user_df.toDF().show(10, False)"
   ]
  },
  {
   "cell_type": "code",
   "execution_count": 22,
   "id": "cb94b94d-f67f-418d-9681-0eea16d5030f",
   "metadata": {},
   "outputs": [],
   "source": [
    "user_df.update(\n",
    "  condition = expr(\"OS == 'Windows'\"),\n",
    "  set = { \"OS\": expr(\"concat('windows', '__', '_')\") }\n",
    ")\n"
   ]
  },
  {
   "cell_type": "code",
   "execution_count": 23,
   "id": "97f1dee5-ee2f-475c-971b-2e3a63eaa1da",
   "metadata": {},
   "outputs": [
    {
     "name": "stdout",
     "output_type": "stream",
     "text": [
      "+-------+--------+-------+----------+\n",
      "|User_ID|Username|Browser|OS        |\n",
      "+-------+--------+-------+----------+\n",
      "|2340   |Harry   |Vivaldi|windows___|\n",
      "|7860   |Albert  |Chrome |windows___|\n",
      "|1123   |May     |Safari |macOS     |\n",
      "|1580   |Barry   |FireFox|windows___|\n",
      "|5820   |Sam     |MS Edge|Linux     |\n",
      "+-------+--------+-------+----------+\n",
      "\n"
     ]
    }
   ],
   "source": [
    "(\n",
    "spark\n",
    "    .read\n",
    "    .format('delta')\n",
    "    .load('s3a://delta-lake/users_delta')\n",
    "    .show(10, False)\n",
    ")"
   ]
  },
  {
   "cell_type": "code",
   "execution_count": 24,
   "id": "e913e874-2a9a-4f15-91e0-40d63771f951",
   "metadata": {},
   "outputs": [],
   "source": [
    "user_df.update(\n",
    "  condition = expr(\"OS == 'windows___'\"),\n",
    "  set = { \"OS\": expr(\"'Windows'\") }\n",
    ")"
   ]
  },
  {
   "cell_type": "code",
   "execution_count": 25,
   "id": "eaaca1a4-486d-4421-9212-a120073e0f36",
   "metadata": {},
   "outputs": [
    {
     "name": "stdout",
     "output_type": "stream",
     "text": [
      "+-------+--------+-------+-------+\n",
      "|User_ID|Username|Browser|OS     |\n",
      "+-------+--------+-------+-------+\n",
      "|2340   |Harry   |Vivaldi|Windows|\n",
      "|7860   |Albert  |Chrome |Windows|\n",
      "|1123   |May     |Safari |macOS  |\n",
      "|1580   |Barry   |FireFox|Windows|\n",
      "|5820   |Sam     |MS Edge|Linux  |\n",
      "+-------+--------+-------+-------+\n",
      "\n"
     ]
    }
   ],
   "source": [
    "(\n",
    "spark\n",
    "    .read\n",
    "    .format('delta')\n",
    "    .load('s3a://delta-lake/users_delta')\n",
    "    .show(10, False)\n",
    ")"
   ]
  },
  {
   "cell_type": "code",
   "execution_count": null,
   "id": "2ab96b41-d7fc-4318-bf4e-74884f5748f4",
   "metadata": {},
   "outputs": [],
   "source": []
  }
 ],
 "metadata": {
  "kernelspec": {
   "display_name": "Python 3 (ipykernel)",
   "language": "python",
   "name": "python3"
  },
  "language_info": {
   "codemirror_mode": {
    "name": "ipython",
    "version": 3
   },
   "file_extension": ".py",
   "mimetype": "text/x-python",
   "name": "python",
   "nbconvert_exporter": "python",
   "pygments_lexer": "ipython3",
   "version": "3.8.13"
  }
 },
 "nbformat": 4,
 "nbformat_minor": 5
}
