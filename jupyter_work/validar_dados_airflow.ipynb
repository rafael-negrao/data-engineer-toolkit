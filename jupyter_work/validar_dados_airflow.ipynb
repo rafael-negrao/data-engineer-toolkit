{
 "cells": [
  {
   "cell_type": "code",
   "execution_count": 1,
   "id": "e717c391-82d0-44fa-b5e2-1be1f4d17535",
   "metadata": {},
   "outputs": [],
   "source": [
    "import pyspark\n",
    "from delta import *\n",
    "\n",
    "builder = (\n",
    "  pyspark \n",
    "    .sql \n",
    "    .SparkSession \n",
    "    .builder \n",
    "    .appName(\"delta\") \n",
    "    .master(\"spark://spark-master:7077\")\n",
    "    .config(\"spark.sql.extensions\", \"io.delta.sql.DeltaSparkSessionExtension\")\n",
    "    .config(\"spark.sql.catalog.spark_catalog\", \"org.apache.spark.sql.delta.catalog.DeltaCatalog\")\n",
    "    .config(\"spark.hadoop.fs.s3a.access.key\",\"datalake\") \n",
    "    .config(\"spark.hadoop.fs.s3a.secret.key\",\"datalake\") \n",
    "    .config(\"spark.hadoop.fs.s3a.endpoint\",\"http://minio:9000\") \n",
    "    .config(\"spark.hadoop.fs.s3a.path.style.access\", \"true\") \n",
    "    .config(\"spark.hadoop.fs.s3a.aws.credentials.provider\", \"org.apache.hadoop.fs.s3a.SimpleAWSCredentialsProvider\") \n",
    "    .config(\"spark.hadoop.fs.s3a.impl\", \"org.apache.hadoop.fs.s3a.S3AFileSystem\")\n",
    ")\n",
    "\n",
    "spark = configure_spark_with_delta_pip(builder).enableHiveSupport().getOrCreate()"
   ]
  },
  {
   "cell_type": "code",
   "execution_count": 2,
   "id": "3baa6556-df4e-4725-9b71-e6fd8adf487b",
   "metadata": {},
   "outputs": [
    {
     "name": "stdout",
     "output_type": "stream",
     "text": [
      "+-------+--------+-------+-------+-------+\n",
      "|User_ID|Username|Browser|OS     |os_    |\n",
      "+-------+--------+-------+-------+-------+\n",
      "|2340   |Harry   |Vivaldi|Windows|windows|\n",
      "|7860   |Albert  |Chrome |Windows|windows|\n",
      "|1123   |May     |Safari |macOS  |macos  |\n",
      "|1580   |Barry   |FireFox|Windows|windows|\n",
      "|5820   |Sam     |MS Edge|Linux  |linux  |\n",
      "+-------+--------+-------+-------+-------+\n",
      "\n"
     ]
    }
   ],
   "source": [
    "(\n",
    "spark\n",
    "    .read\n",
    "    .format('delta')\n",
    "    .load('s3a://delta-lake/users_from_airflow')\n",
    "    .show(10, False)\n",
    ")"
   ]
  },
  {
   "cell_type": "code",
   "execution_count": null,
   "id": "21b152e1-7594-4f91-b1ec-93e54a2c71fb",
   "metadata": {},
   "outputs": [],
   "source": []
  }
 ],
 "metadata": {
  "kernelspec": {
   "display_name": "Python 3 (ipykernel)",
   "language": "python",
   "name": "python3"
  },
  "language_info": {
   "codemirror_mode": {
    "name": "ipython",
    "version": 3
   },
   "file_extension": ".py",
   "mimetype": "text/x-python",
   "name": "python",
   "nbconvert_exporter": "python",
   "pygments_lexer": "ipython3",
   "version": "3.8.13"
  }
 },
 "nbformat": 4,
 "nbformat_minor": 5
}
